{
 "cells": [
  {
   "cell_type": "code",
   "execution_count": 1,
   "metadata": {},
   "outputs": [],
   "source": [
    "import pandas as pd\n",
    "from sklearn.model_selection import train_test_split\n",
    "from sklearn.linear_model import LogisticRegression\n",
    "from sklearn.metrics import r2_score, confusion_matrix\n",
    "import numpy as np\n",
    "from matplotlib import pyplot as plt"
   ]
  },
  {
   "cell_type": "code",
   "execution_count": 2,
   "metadata": {},
   "outputs": [],
   "source": [
    "#Importing the split data\n",
    "\n",
    "x_train = pd.read_csv(\"data/train/x_train.csv\", header=0,index_col=0)\n",
    "y_train = pd.read_csv(\"data/train/y_train.csv\", header=0,index_col=0)\n",
    "\n",
    "x_test = pd.read_csv(\"data/val/x_val.csv\", header=0,index_col=0)\n",
    "y_test = pd.read_csv(\"data/val/y_val.csv\", header=0,index_col=0)"
   ]
  },
  {
   "cell_type": "code",
   "execution_count": 3,
   "metadata": {},
   "outputs": [
    {
     "name": "stderr",
     "output_type": "stream",
     "text": [
      "/Users/manasavegesna/anaconda3/lib/python3.7/site-packages/sklearn/utils/validation.py:760: DataConversionWarning: A column-vector y was passed when a 1d array was expected. Please change the shape of y to (n_samples, ), for example using ravel().\n",
      "  y = column_or_1d(y, warn=True)\n"
     ]
    },
    {
     "data": {
      "text/plain": [
       "LogisticRegression(C=1.0, class_weight=None, dual=False, fit_intercept=True,\n",
       "                   intercept_scaling=1, l1_ratio=None, max_iter=100,\n",
       "                   multi_class='auto', n_jobs=None, penalty='l2',\n",
       "                   random_state=0, solver='liblinear', tol=0.0001, verbose=0,\n",
       "                   warm_start=False)"
      ]
     },
     "execution_count": 3,
     "metadata": {},
     "output_type": "execute_result"
    }
   ],
   "source": [
    "model = LogisticRegression(solver='liblinear', random_state=0)\n",
    "model.fit(x_train,y_train)"
   ]
  },
  {
   "cell_type": "code",
   "execution_count": 4,
   "metadata": {},
   "outputs": [],
   "source": [
    "#prediction\n",
    "y_pred = model.predict(x_test)"
   ]
  },
  {
   "cell_type": "code",
   "execution_count": 6,
   "metadata": {},
   "outputs": [
    {
     "name": "stdout",
     "output_type": "stream",
     "text": [
      "Intercept: [0.31291553]\n",
      "Coefficient: [[-4.07806609e-17 -5.82924764e-01 -1.13652365e-01 -9.01243580e-02\n",
      "   1.00362796e-01 -2.55945356e-02 -3.22227588e-02  4.77363140e-17\n",
      "  -5.86626934e-01 -7.46065756e-02  3.06432031e-02  5.46123859e-02\n",
      "   1.18847689e-01  1.14806723e-01 -1.93830093e-18 -6.02690196e-01\n",
      "   4.36894721e-01  6.53674695e-02 -4.70657118e-03 -6.60313422e-02\n",
      "  -6.91496685e-02  1.05066609e-16 -5.57986429e-01 -1.38130573e+00\n",
      "   2.64219574e-01 -6.12716440e-03 -1.76905191e+00  5.99242192e-01\n",
      "   2.58547235e-17 -5.89883954e-01  7.09373881e-02 -1.14054523e-01\n",
      "  -2.87458129e-02  4.23203419e-01  7.39471256e-01  5.27844750e-17\n",
      "  -6.00838798e-01  9.32188839e-01  9.76770876e-01  2.29279583e-02\n",
      "   1.13470339e+00  1.10391447e+00 -5.07882516e-18 -5.85841938e-01\n",
      "  -8.06939117e-02 -8.03938160e-02  7.14587844e-02 -1.20269613e-01\n",
      "  -6.29716636e-01  5.13546676e-17 -6.24018153e-01 -1.19862051e-01\n",
      "  -1.23063967e-01 -3.00980033e-01 -7.58877739e-02 -6.41317047e-02]]\n"
     ]
    }
   ],
   "source": [
    "print(f\"Intercept: {model.intercept_}\")\n",
    "print(f\"Coefficient: {model.coef_}\")"
   ]
  },
  {
   "cell_type": "code",
   "execution_count": 7,
   "metadata": {},
   "outputs": [
    {
     "name": "stdout",
     "output_type": "stream",
     "text": [
      "Confusion Matrix: [[31  0]\n",
      " [ 5  0]]\n"
     ]
    }
   ],
   "source": [
    "#Confusion Matrix\n",
    "print(f\"Confusion Matrix: {confusion_matrix(y_test, y_pred)}\")"
   ]
  },
  {
   "cell_type": "code",
   "execution_count": 8,
   "metadata": {},
   "outputs": [
    {
     "name": "stdout",
     "output_type": "stream",
     "text": [
      "Model Score: 0.8611111111111112\n"
     ]
    }
   ],
   "source": [
    "#Model Score\n",
    "print(f\"Model Score: {model.score(x_test,y_test)}\")"
   ]
  },
  {
   "cell_type": "code",
   "execution_count": 9,
   "metadata": {},
   "outputs": [
    {
     "name": "stdout",
     "output_type": "stream",
     "text": [
      "F1 score: 0.0\n",
      "Balanced Accuracy Score: 0.5\n",
      "Precision Score: 0.0\n"
     ]
    },
    {
     "name": "stderr",
     "output_type": "stream",
     "text": [
      "/Users/manasavegesna/anaconda3/lib/python3.7/site-packages/sklearn/metrics/_classification.py:1272: UndefinedMetricWarning: Precision is ill-defined and being set to 0.0 due to no predicted samples. Use `zero_division` parameter to control this behavior.\n",
      "  _warn_prf(average, modifier, msg_start, len(result))\n"
     ]
    }
   ],
   "source": [
    "#Other performance metrics \n",
    "\n",
    "from sklearn.metrics import f1_score, balanced_accuracy_score,precision_score\n",
    "\n",
    "print(f\"F1 score: {f1_score(y_test, y_pred)}\")\n",
    "print(f\"Balanced Accuracy Score: {balanced_accuracy_score(y_test,y_pred)}\")\n",
    "print(f\"Precision Score: {precision_score(y_test,y_pred)}\")"
   ]
  }
 ],
 "metadata": {
  "kernelspec": {
   "display_name": "Python 3",
   "language": "python",
   "name": "python3"
  },
  "language_info": {
   "codemirror_mode": {
    "name": "ipython",
    "version": 3
   },
   "file_extension": ".py",
   "mimetype": "text/x-python",
   "name": "python",
   "nbconvert_exporter": "python",
   "pygments_lexer": "ipython3",
   "version": "3.7.3"
  }
 },
 "nbformat": 4,
 "nbformat_minor": 4
}
