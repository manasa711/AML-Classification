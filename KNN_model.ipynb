{
 "cells": [
  {
   "cell_type": "code",
   "execution_count": 1,
   "metadata": {},
   "outputs": [],
   "source": [
    "import csv\n",
    "import pandas as pd\n",
    "import numpy as np\n",
    "import matplotlib.pyplot as plt\n",
    "import sklearn.ensemble\n",
    "import sklearn.preprocessing\n",
    "from sklearn.neighbors import KNeighborsClassifier\n",
    "import seaborn as sns\n",
    "from sklearn import metrics"
   ]
  },
  {
   "cell_type": "code",
   "execution_count": 2,
   "metadata": {},
   "outputs": [],
   "source": [
    "#Importing the split data\n",
    "\n",
    "x_train = pd.read_csv(\"data/train/x_train.csv\", header=0,index_col=0)\n",
    "y_train = pd.read_csv(\"data/train/y_train.csv\", header=0,index_col=0)\n",
    "\n",
    "x_test = pd.read_csv(\"data/val/x_val.csv\", header=0,index_col=0)\n",
    "y_test = pd.read_csv(\"data/val/y_val.csv\", header=0,index_col=0)"
   ]
  },
  {
   "cell_type": "code",
   "execution_count": 3,
   "metadata": {},
   "outputs": [
    {
     "data": {
      "text/plain": [
       "KNeighborsClassifier(algorithm='auto', leaf_size=30, metric='minkowski',\n",
       "                     metric_params=None, n_jobs=None, n_neighbors=3, p=2,\n",
       "                     weights='distance')"
      ]
     },
     "execution_count": 3,
     "metadata": {},
     "output_type": "execute_result"
    }
   ],
   "source": [
    "#KNN Classifier Model \n",
    "classifier =  KNeighborsClassifier(n_neighbors=3, weights='distance')\n",
    "classifier.fit(x_train, y_train.values.ravel())"
   ]
  },
  {
   "cell_type": "code",
   "execution_count": 4,
   "metadata": {},
   "outputs": [
    {
     "name": "stdout",
     "output_type": "stream",
     "text": [
      "Classifier Accuracy: 0.9722222222222222\n"
     ]
    }
   ],
   "source": [
    "#Returns the classifier's accuracy\n",
    "\n",
    "def accuracy(classifier) -> float:\n",
    "    num_correct = 0\n",
    "    for i in range(len(x_test)):\n",
    "        pred = classifier.predict([x_test.values[i]])[0]\n",
    "        correct = y_test.values[i]\n",
    "        if pred == correct:\n",
    "                num_correct += 1\n",
    "    return num_correct / len(x_test)\n",
    "\n",
    "print(f\"Classifier Accuracy: {accuracy(classifier)}\")"
   ]
  },
  {
   "cell_type": "code",
   "execution_count": 5,
   "metadata": {},
   "outputs": [
    {
     "name": "stdout",
     "output_type": "stream",
     "text": [
      "Accuracy: 0.9722222222222222\n"
     ]
    }
   ],
   "source": [
    "#Prediction\n",
    "\n",
    "y_pred=classifier.predict(x_test)\n",
    "print(f\"Accuracy: {metrics.accuracy_score(y_pred, y_test)}\")"
   ]
  },
  {
   "cell_type": "code",
   "execution_count": 6,
   "metadata": {},
   "outputs": [
    {
     "name": "stdout",
     "output_type": "stream",
     "text": [
      "k = 2\n",
      "Accuracy: 0.9722222222222222\n",
      "F1 Score: 0.888888888888889\n",
      "BAS: 0.9\n",
      "ROC: 0.9\n",
      "\n",
      "\n",
      "k = 3\n",
      "Accuracy: 0.9722222222222222\n",
      "F1 Score: 0.888888888888889\n",
      "BAS: 0.9\n",
      "ROC: 0.9\n",
      "\n",
      "\n",
      "k = 4\n",
      "Accuracy: 0.9722222222222222\n",
      "F1 Score: 0.888888888888889\n",
      "BAS: 0.9\n",
      "ROC: 0.9\n",
      "\n",
      "\n",
      "k = 5\n",
      "Accuracy: 0.9722222222222222\n",
      "F1 Score: 0.888888888888889\n",
      "BAS: 0.9\n",
      "ROC: 0.9\n",
      "\n",
      "\n",
      "k = 6\n",
      "Accuracy: 0.9722222222222222\n",
      "F1 Score: 0.888888888888889\n",
      "BAS: 0.9\n",
      "ROC: 0.9\n",
      "\n",
      "\n",
      "k = 7\n",
      "Accuracy: 0.9722222222222222\n",
      "F1 Score: 0.888888888888889\n",
      "BAS: 0.9\n",
      "ROC: 0.9\n",
      "\n",
      "\n",
      "k = 8\n",
      "Accuracy: 0.9722222222222222\n",
      "F1 Score: 0.888888888888889\n",
      "BAS: 0.9\n",
      "ROC: 0.9\n",
      "\n",
      "\n",
      "k = 9\n",
      "Accuracy: 0.9722222222222222\n",
      "F1 Score: 0.888888888888889\n",
      "BAS: 0.9\n",
      "ROC: 0.9\n",
      "\n",
      "\n"
     ]
    }
   ],
   "source": [
    "#hyperparameter tuning - testing from 2 to 9 \n",
    "\n",
    "for i in range(2,10):\n",
    "    print(\"k = {}\".format(i))\n",
    "    \n",
    "    classifier =  KNeighborsClassifier(n_neighbors=i, weights='distance')\n",
    "    classifier.fit(x_train, y_train.values.ravel())\n",
    "    y_pred=classifier.predict(x_test)\n",
    "    \n",
    "    print(\"Accuracy:\",metrics.accuracy_score(y_test, y_pred))\n",
    "    print(\"F1 Score:\",metrics.f1_score(y_test, y_pred))\n",
    "    print(\"BAS:\", metrics.balanced_accuracy_score(y_test, y_pred))\n",
    "    print(\"ROC:\", metrics.roc_auc_score(y_test, y_pred))\n",
    "    print(\"\\n\")"
   ]
  },
  {
   "cell_type": "code",
   "execution_count": 7,
   "metadata": {},
   "outputs": [],
   "source": [
    "#Training on all labelled data and predicting unlabelled cases\n",
    "\n",
    "train_data = pd.read_csv('train_mean_features_labelled.csv',header=0, index_col=0)\n",
    "X_train = train_data.loc[:, train_data.columns != 'label']\n",
    "y_train = train_data.loc[:, train_data.columns == 'label']\n",
    "X_test = pd.read_csv('test_mean_features.csv',header=0, index_col=0)"
   ]
  },
  {
   "cell_type": "code",
   "execution_count": 8,
   "metadata": {},
   "outputs": [],
   "source": [
    "classifier =  KNeighborsClassifier(n_neighbors=3, weights='distance')\n",
    "classifier.fit(X_train, y_train.values.ravel())\n",
    "predicted = classifier.predict(X_test)"
   ]
  },
  {
   "cell_type": "code",
   "execution_count": 9,
   "metadata": {},
   "outputs": [
    {
     "name": "stdout",
     "output_type": "stream",
     "text": [
      "Number of positive cases identified in test data: 20\n",
      "Number of total cases in test data: 180\n"
     ]
    }
   ],
   "source": [
    "print(f\"Number of positive cases identified in test data: {sum(predicted)}\")\n",
    "print(f\"Number of total cases in test data: {len(predicted)}\")"
   ]
  },
  {
   "cell_type": "code",
   "execution_count": 10,
   "metadata": {},
   "outputs": [
    {
     "name": "stdout",
     "output_type": "stream",
     "text": [
      "[[1.         0.        ]\n",
      " [1.         0.        ]\n",
      " [1.         0.        ]\n",
      " [1.         0.        ]\n",
      " [1.         0.        ]\n",
      " [1.         0.        ]\n",
      " [1.         0.        ]\n",
      " [1.         0.        ]\n",
      " [1.         0.        ]\n",
      " [1.         0.        ]\n",
      " [1.         0.        ]\n",
      " [1.         0.        ]\n",
      " [1.         0.        ]\n",
      " [1.         0.        ]\n",
      " [1.         0.        ]\n",
      " [1.         0.        ]\n",
      " [1.         0.        ]\n",
      " [1.         0.        ]\n",
      " [1.         0.        ]\n",
      " [1.         0.        ]\n",
      " [1.         0.        ]\n",
      " [1.         0.        ]\n",
      " [1.         0.        ]\n",
      " [0.3319989  0.6680011 ]\n",
      " [1.         0.        ]\n",
      " [0.         1.        ]\n",
      " [1.         0.        ]\n",
      " [1.         0.        ]\n",
      " [1.         0.        ]\n",
      " [1.         0.        ]\n",
      " [1.         0.        ]\n",
      " [0.         1.        ]\n",
      " [1.         0.        ]\n",
      " [1.         0.        ]\n",
      " [1.         0.        ]\n",
      " [1.         0.        ]\n",
      " [1.         0.        ]\n",
      " [1.         0.        ]\n",
      " [1.         0.        ]\n",
      " [0.         1.        ]\n",
      " [1.         0.        ]\n",
      " [0.         1.        ]\n",
      " [1.         0.        ]\n",
      " [1.         0.        ]\n",
      " [1.         0.        ]\n",
      " [1.         0.        ]\n",
      " [1.         0.        ]\n",
      " [0.         1.        ]\n",
      " [1.         0.        ]\n",
      " [1.         0.        ]\n",
      " [1.         0.        ]\n",
      " [1.         0.        ]\n",
      " [1.         0.        ]\n",
      " [1.         0.        ]\n",
      " [1.         0.        ]\n",
      " [1.         0.        ]\n",
      " [0.32155588 0.67844412]\n",
      " [1.         0.        ]\n",
      " [1.         0.        ]\n",
      " [0.33484415 0.66515585]\n",
      " [1.         0.        ]\n",
      " [0.67792519 0.32207481]\n",
      " [1.         0.        ]\n",
      " [1.         0.        ]\n",
      " [1.         0.        ]\n",
      " [1.         0.        ]\n",
      " [1.         0.        ]\n",
      " [1.         0.        ]\n",
      " [1.         0.        ]\n",
      " [1.         0.        ]\n",
      " [0.69227192 0.30772808]\n",
      " [1.         0.        ]\n",
      " [1.         0.        ]\n",
      " [1.         0.        ]\n",
      " [1.         0.        ]\n",
      " [1.         0.        ]\n",
      " [1.         0.        ]\n",
      " [1.         0.        ]\n",
      " [1.         0.        ]\n",
      " [1.         0.        ]\n",
      " [1.         0.        ]\n",
      " [0.         1.        ]\n",
      " [0.         1.        ]\n",
      " [1.         0.        ]\n",
      " [1.         0.        ]\n",
      " [1.         0.        ]\n",
      " [1.         0.        ]\n",
      " [1.         0.        ]\n",
      " [1.         0.        ]\n",
      " [0.         1.        ]\n",
      " [1.         0.        ]\n",
      " [1.         0.        ]\n",
      " [1.         0.        ]\n",
      " [1.         0.        ]\n",
      " [1.         0.        ]\n",
      " [1.         0.        ]\n",
      " [1.         0.        ]\n",
      " [1.         0.        ]\n",
      " [1.         0.        ]\n",
      " [1.         0.        ]\n",
      " [1.         0.        ]\n",
      " [1.         0.        ]\n",
      " [1.         0.        ]\n",
      " [1.         0.        ]\n",
      " [0.26527167 0.73472833]\n",
      " [0.34950986 0.65049014]\n",
      " [1.         0.        ]\n",
      " [1.         0.        ]\n",
      " [1.         0.        ]\n",
      " [1.         0.        ]\n",
      " [1.         0.        ]\n",
      " [1.         0.        ]\n",
      " [1.         0.        ]\n",
      " [1.         0.        ]\n",
      " [1.         0.        ]\n",
      " [1.         0.        ]\n",
      " [1.         0.        ]\n",
      " [1.         0.        ]\n",
      " [1.         0.        ]\n",
      " [0.         1.        ]\n",
      " [1.         0.        ]\n",
      " [1.         0.        ]\n",
      " [1.         0.        ]\n",
      " [1.         0.        ]\n",
      " [1.         0.        ]\n",
      " [1.         0.        ]\n",
      " [1.         0.        ]\n",
      " [1.         0.        ]\n",
      " [1.         0.        ]\n",
      " [1.         0.        ]\n",
      " [1.         0.        ]\n",
      " [1.         0.        ]\n",
      " [1.         0.        ]\n",
      " [1.         0.        ]\n",
      " [0.         1.        ]\n",
      " [1.         0.        ]\n",
      " [1.         0.        ]\n",
      " [1.         0.        ]\n",
      " [1.         0.        ]\n",
      " [1.         0.        ]\n",
      " [1.         0.        ]\n",
      " [1.         0.        ]\n",
      " [1.         0.        ]\n",
      " [1.         0.        ]\n",
      " [1.         0.        ]\n",
      " [1.         0.        ]\n",
      " [0.         1.        ]\n",
      " [1.         0.        ]\n",
      " [1.         0.        ]\n",
      " [1.         0.        ]\n",
      " [1.         0.        ]\n",
      " [1.         0.        ]\n",
      " [1.         0.        ]\n",
      " [1.         0.        ]\n",
      " [1.         0.        ]\n",
      " [1.         0.        ]\n",
      " [1.         0.        ]\n",
      " [1.         0.        ]\n",
      " [1.         0.        ]\n",
      " [1.         0.        ]\n",
      " [0.33522808 0.66477192]\n",
      " [1.         0.        ]\n",
      " [1.         0.        ]\n",
      " [1.         0.        ]\n",
      " [0.3149905  0.6850095 ]\n",
      " [1.         0.        ]\n",
      " [1.         0.        ]\n",
      " [1.         0.        ]\n",
      " [0.         1.        ]\n",
      " [1.         0.        ]\n",
      " [1.         0.        ]\n",
      " [1.         0.        ]\n",
      " [1.         0.        ]\n",
      " [1.         0.        ]\n",
      " [1.         0.        ]\n",
      " [1.         0.        ]\n",
      " [1.         0.        ]\n",
      " [0.37134684 0.62865316]\n",
      " [1.         0.        ]\n",
      " [1.         0.        ]]\n"
     ]
    }
   ],
   "source": [
    "print(classifier.predict_proba(X_test))"
   ]
  },
  {
   "cell_type": "code",
   "execution_count": 13,
   "metadata": {},
   "outputs": [],
   "source": [
    "#Saving Prediction Results\n",
    "\n",
    "df = pd.DataFrame(predicted)\n",
    "df.to_csv('data/results/KNN_prediction.csv', index = True, header=False)\n",
    "\n",
    "df2 = pd.DataFrame(classifier.predict_proba(X_test))\n",
    "df2.to_csv('data/results/KNN_prediction_prob_score.csv', index = True, header=False)"
   ]
  }
 ],
 "metadata": {
  "kernelspec": {
   "display_name": "Python 3",
   "language": "python",
   "name": "python3"
  },
  "language_info": {
   "codemirror_mode": {
    "name": "ipython",
    "version": 3
   },
   "file_extension": ".py",
   "mimetype": "text/x-python",
   "name": "python",
   "nbconvert_exporter": "python",
   "pygments_lexer": "ipython3",
   "version": "3.7.3"
  }
 },
 "nbformat": 4,
 "nbformat_minor": 4
}
